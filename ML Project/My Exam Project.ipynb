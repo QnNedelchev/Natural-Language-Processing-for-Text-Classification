{
 "cells": [
  {
   "cell_type": "markdown",
   "metadata": {},
   "source": [
    "# Natural Language Processing for Text Classification "
   ]
  },
  {
   "cell_type": "markdown",
   "metadata": {},
   "source": [
    "### Project made by\n",
    " # Iliyan Nedelchev \n",
    " \n",
    " *In this project I will be using dataset used to classify News descriptions. There are 4 categories: Sports, Business, World, SciTech. This is a manually curated dataset of news description and their classes from AGWeb.com.. I got the dataset from <https://medium.com/@dataturks/rare-text-classification-open-datasets-9d340c8c508e>  . I will be using Natural Language Processing for the task Text Classification.*"
   ]
  },
  {
   "cell_type": "markdown",
   "metadata": {},
   "source": [
    "#### What is Natural Language Processing?\n",
    "\n",
    "*Natural language processing (NLP) is a subfield of linguistics, computer science, information engineering, and artificial intelligence concerned with the interactions between computers and human (natural) languages, in particular how to program computers to process and analyze large amounts of natural language data. Challenges in natural language processing frequently involve speech recognition, natural language understanding, and natural language generation.*"
   ]
  },
  {
   "cell_type": "markdown",
   "metadata": {},
   "source": [
    "### In this project I will cover:\n",
    "\n",
    "- Feature Extraction\n",
    "- Regular Expressions\n",
    "- Feature Engineering\n",
    "- A few scikit-learn Classification Algorithms"
   ]
  },
  {
   "cell_type": "markdown",
   "metadata": {},
   "source": [
    "### For the project I will be using:\n",
    "- The **nltk** library for the language processing operations such as removing stems and stopwords\n",
    "- The **pandas** library for the dataframe operations\n",
    "- The **scikit-learn** library for the algorithms,getting the features and separating the data"
   ]
  },
  {
   "cell_type": "code",
   "execution_count": 103,
   "metadata": {},
   "outputs": [],
   "source": [
    "%matplotlib inline\n",
    "import numpy as np\n",
    "import pandas as pd\n",
    "\n",
    "import matplotlib.pyplot as plt\n",
    "import json as j\n",
    "import nltk \n",
    "\n",
    "np.random.seed = 42\n",
    "from sklearn.externals import joblib\n",
    "\n",
    "from sklearn.model_selection import train_test_split\n",
    "from sklearn.metrics import f1_score, make_scorer"
   ]
  },
  {
   "cell_type": "markdown",
   "metadata": {},
   "source": [
    "## 1. Load the dataset"
   ]
  },
  {
   "cell_type": "code",
   "execution_count": 104,
   "metadata": {},
   "outputs": [],
   "source": [
    "json_data = None\n",
    "with open('text_data/News Classification DataSet.json') as data_file:\n",
    "    lines = data_file.readlines()\n",
    "    joined_lines = \"[\" + \",\".join(lines) + \"]\"\n",
    "\n",
    "    json_data = j.loads(joined_lines)\n",
    "\n",
    "data = pd.DataFrame(json_data)"
   ]
  },
  {
   "cell_type": "code",
   "execution_count": 105,
   "metadata": {},
   "outputs": [
    {
     "data": {
      "text/html": [
       "<div>\n",
       "<style scoped>\n",
       "    .dataframe tbody tr th:only-of-type {\n",
       "        vertical-align: middle;\n",
       "    }\n",
       "\n",
       "    .dataframe tbody tr th {\n",
       "        vertical-align: top;\n",
       "    }\n",
       "\n",
       "    .dataframe thead th {\n",
       "        text-align: right;\n",
       "    }\n",
       "</style>\n",
       "<table border=\"1\" class=\"dataframe\">\n",
       "  <thead>\n",
       "    <tr style=\"text-align: right;\">\n",
       "      <th></th>\n",
       "      <th>annotation</th>\n",
       "      <th>content</th>\n",
       "      <th>extras</th>\n",
       "      <th>metadata</th>\n",
       "    </tr>\n",
       "  </thead>\n",
       "  <tbody>\n",
       "    <tr>\n",
       "      <th>0</th>\n",
       "      <td>{'notes': '', 'label': ['Business']}</td>\n",
       "      <td>Unions representing workers at Turner   Newall...</td>\n",
       "      <td>None</td>\n",
       "      <td>{'first_done_at': 1521027375000, 'last_updated...</td>\n",
       "    </tr>\n",
       "    <tr>\n",
       "      <th>1</th>\n",
       "      <td>{'notes': '', 'label': ['SciTech']}</td>\n",
       "      <td>SPACE.com - TORONTO, Canada -- A second\\team o...</td>\n",
       "      <td>None</td>\n",
       "      <td>{'first_done_at': 1521027375000, 'last_updated...</td>\n",
       "    </tr>\n",
       "    <tr>\n",
       "      <th>2</th>\n",
       "      <td>{'notes': '', 'label': ['SciTech']}</td>\n",
       "      <td>AP - A company founded by a chemistry research...</td>\n",
       "      <td>None</td>\n",
       "      <td>{'first_done_at': 1521027375000, 'last_updated...</td>\n",
       "    </tr>\n",
       "    <tr>\n",
       "      <th>3</th>\n",
       "      <td>{'notes': '', 'label': ['SciTech']}</td>\n",
       "      <td>AP - It's barely dawn when Mike Fitzpatrick st...</td>\n",
       "      <td>None</td>\n",
       "      <td>{'first_done_at': 1521027375000, 'last_updated...</td>\n",
       "    </tr>\n",
       "    <tr>\n",
       "      <th>4</th>\n",
       "      <td>{'notes': '', 'label': ['SciTech']}</td>\n",
       "      <td>AP - Southern California's smog-fighting agenc...</td>\n",
       "      <td>None</td>\n",
       "      <td>{'first_done_at': 1521027375000, 'last_updated...</td>\n",
       "    </tr>\n",
       "  </tbody>\n",
       "</table>\n",
       "</div>"
      ],
      "text/plain": [
       "                             annotation  \\\n",
       "0  {'notes': '', 'label': ['Business']}   \n",
       "1   {'notes': '', 'label': ['SciTech']}   \n",
       "2   {'notes': '', 'label': ['SciTech']}   \n",
       "3   {'notes': '', 'label': ['SciTech']}   \n",
       "4   {'notes': '', 'label': ['SciTech']}   \n",
       "\n",
       "                                             content extras  \\\n",
       "0  Unions representing workers at Turner   Newall...   None   \n",
       "1  SPACE.com - TORONTO, Canada -- A second\\team o...   None   \n",
       "2  AP - A company founded by a chemistry research...   None   \n",
       "3  AP - It's barely dawn when Mike Fitzpatrick st...   None   \n",
       "4  AP - Southern California's smog-fighting agenc...   None   \n",
       "\n",
       "                                            metadata  \n",
       "0  {'first_done_at': 1521027375000, 'last_updated...  \n",
       "1  {'first_done_at': 1521027375000, 'last_updated...  \n",
       "2  {'first_done_at': 1521027375000, 'last_updated...  \n",
       "3  {'first_done_at': 1521027375000, 'last_updated...  \n",
       "4  {'first_done_at': 1521027375000, 'last_updated...  "
      ]
     },
     "execution_count": 105,
     "metadata": {},
     "output_type": "execute_result"
    }
   ],
   "source": [
    "data.head()"
   ]
  },
  {
   "cell_type": "code",
   "execution_count": 106,
   "metadata": {},
   "outputs": [
    {
     "name": "stdout",
     "output_type": "stream",
     "text": [
      "<class 'pandas.core.frame.DataFrame'>\n",
      "RangeIndex: 7600 entries, 0 to 7599\n",
      "Data columns (total 4 columns):\n",
      "annotation    7600 non-null object\n",
      "content       7600 non-null object\n",
      "extras        0 non-null object\n",
      "metadata      7600 non-null object\n",
      "dtypes: object(4)\n",
      "memory usage: 118.8+ KB\n"
     ]
    }
   ],
   "source": [
    "data.info()"
   ]
  },
  {
   "cell_type": "markdown",
   "metadata": {},
   "source": [
    "*There are no missing values in the dataset and I can move on*"
   ]
  },
  {
   "cell_type": "markdown",
   "metadata": {},
   "source": [
    "### Separating features and labels"
   ]
  },
  {
   "cell_type": "code",
   "execution_count": 107,
   "metadata": {},
   "outputs": [],
   "source": [
    "data_features = data['content']"
   ]
  },
  {
   "cell_type": "code",
   "execution_count": 108,
   "metadata": {},
   "outputs": [
    {
     "data": {
      "text/plain": [
       "0    Unions representing workers at Turner   Newall...\n",
       "1    SPACE.com - TORONTO, Canada -- A second\\team o...\n",
       "2    AP - A company founded by a chemistry research...\n",
       "3    AP - It's barely dawn when Mike Fitzpatrick st...\n",
       "4    AP - Southern California's smog-fighting agenc...\n",
       "Name: content, dtype: object"
      ]
     },
     "execution_count": 108,
     "metadata": {},
     "output_type": "execute_result"
    }
   ],
   "source": [
    "data_features.head()"
   ]
  },
  {
   "cell_type": "code",
   "execution_count": 109,
   "metadata": {},
   "outputs": [],
   "source": [
    "data_labels = data['annotation']"
   ]
  },
  {
   "cell_type": "code",
   "execution_count": 110,
   "metadata": {},
   "outputs": [
    {
     "data": {
      "text/plain": [
       "0    {'notes': '', 'label': ['Business']}\n",
       "1     {'notes': '', 'label': ['SciTech']}\n",
       "2     {'notes': '', 'label': ['SciTech']}\n",
       "3     {'notes': '', 'label': ['SciTech']}\n",
       "4     {'notes': '', 'label': ['SciTech']}\n",
       "Name: annotation, dtype: object"
      ]
     },
     "execution_count": 110,
     "metadata": {},
     "output_type": "execute_result"
    }
   ],
   "source": [
    "data_labels.head()"
   ]
  },
  {
   "cell_type": "markdown",
   "metadata": {},
   "source": [
    "## 2. Preprocess the data"
   ]
  },
  {
   "cell_type": "markdown",
   "metadata": {},
   "source": [
    "*The labels are with rather strange syntax and this can be a problem,so lets replace them with the categories:\n",
    "__'Business', 'SciTech', 'Sports', 'World'__.*\n"
   ]
  },
  {
   "cell_type": "code",
   "execution_count": 111,
   "metadata": {},
   "outputs": [
    {
     "data": {
      "text/plain": [
       "0    Business\n",
       "1     SciTech\n",
       "2     SciTech\n",
       "3     SciTech\n",
       "4     SciTech\n",
       "Name: annotation, dtype: object"
      ]
     },
     "execution_count": 111,
     "metadata": {},
     "output_type": "execute_result"
    }
   ],
   "source": [
    "data_labels_cleaned = data_labels.replace([{'notes': '', 'label': ['Business']}], 'Business')\n",
    "data_labels_cleaned = data_labels_cleaned.replace([{'notes': '', 'label': ['SciTech']}], 'SciTech')\n",
    "data_labels_cleaned = data_labels_cleaned.replace([{'notes': '', 'label': ['Sports']}], 'Sports')\n",
    "data_labels_cleaned = data_labels_cleaned.replace([{'notes': '', 'label': ['World']}], 'World')\n",
    "data_labels_cleaned.head()"
   ]
  },
  {
   "cell_type": "markdown",
   "metadata": {},
   "source": [
    "###  Transforming the labels from categorical to indicator variables:\n",
    "**Business = 0, SciTech = 1, Sports = 2, World = 3**"
   ]
  },
  {
   "cell_type": "code",
   "execution_count": 112,
   "metadata": {},
   "outputs": [],
   "source": [
    "from sklearn.preprocessing import LabelEncoder\n",
    "encoder = LabelEncoder()\n",
    "\n",
    "data_labels_final = encoder.fit_transform(data_labels_cleaned)"
   ]
  },
  {
   "cell_type": "code",
   "execution_count": 113,
   "metadata": {},
   "outputs": [
    {
     "name": "stdout",
     "output_type": "stream",
     "text": [
      "[0 1 1 ... 2 0 0]\n"
     ]
    }
   ],
   "source": [
    "print(data_labels_final)"
   ]
  },
  {
   "cell_type": "markdown",
   "metadata": {},
   "source": [
    "__Lets see all the classes__"
   ]
  },
  {
   "cell_type": "code",
   "execution_count": 114,
   "metadata": {},
   "outputs": [
    {
     "data": {
      "text/plain": [
       "{0, 1, 2, 3}"
      ]
     },
     "execution_count": 114,
     "metadata": {},
     "output_type": "execute_result"
    }
   ],
   "source": [
    "set(data_labels_final)"
   ]
  },
  {
   "cell_type": "markdown",
   "metadata": {},
   "source": [
    "*Now it's looking better!*\n",
    "#### Lets see how many instances there are in each class"
   ]
  },
  {
   "cell_type": "code",
   "execution_count": 115,
   "metadata": {},
   "outputs": [
    {
     "data": {
      "text/plain": [
       "World       1900\n",
       "Business    1900\n",
       "Sports      1900\n",
       "SciTech     1900\n",
       "Name: annotation, dtype: int64"
      ]
     },
     "execution_count": 115,
     "metadata": {},
     "output_type": "execute_result"
    }
   ],
   "source": [
    "data_labels_cleaned.value_counts()"
   ]
  },
  {
   "cell_type": "markdown",
   "metadata": {},
   "source": [
    "*The data is equaly destributed*"
   ]
  },
  {
   "cell_type": "markdown",
   "metadata": {},
   "source": [
    "## 2.1 Regular Expressions\n",
    "\n",
    "*Some common regular expression metacharacters - copied from wikipedia*\n",
    "\n",
    "**^** Matches the starting position within the string. In line-based tools, it matches the starting position of any line.\n",
    "\n",
    "**.** Matches any single character (many applications exclude newlines, and exactly which characters are considered newlines is flavor-, character-encoding-, and platform-specific, but it is safe to assume that the line feed character is included). Within POSIX bracket expressions, the dot character matches a literal dot. For example, a.c matches \"abc\", etc., but [a.c] matches only \"a\", \".\", or \"c\".\n",
    "\n",
    "**[ ]** A bracket expression. Matches a single character that is contained within the brackets. For example, [abc] matches \"a\", \"b\", or \"c\". [a-z] specifies a range which matches any lowercase letter from \"a\" to \"z\". These forms can be mixed: [abcx-z] matches \"a\", \"b\", \"c\", \"x\", \"y\", or \"z\", as does [a-cx-z]. The - character is treated as a literal character if it is the last or the first (after the ^, if present) character within the brackets: [abc-], [-abc]. Note that backslash escapes are not allowed. The ] character can be included in a bracket expression if it is the first (after the ^) character: []abc].\n",
    "\n",
    "**[^ ]** Matches a single character that is not contained within the brackets. For example, [^abc] matches any character other than \"a\", \"b\", or \"c\". [^a-z] matches any single character that is not a lowercase letter from \"a\" to \"z\". Likewise, literal characters and ranges can be mixed.\n",
    "\n",
    "**$** Matches the ending position of the string or the position just before a string-ending newline. In line-based tools, it matches the ending position of any line.\n",
    "\n",
    "**( )** Defines a marked subexpression. The string matched within the parentheses can be recalled later (see the next entry, \\n). A marked subexpression is also called a block or capturing group. BRE mode requires ( ).\n",
    "\n",
    "**\\n** Matches what the nth marked subexpression matched, where n is a digit from 1 to 9. This construct is vaguely defined in the POSIX.2 standard. Some tools allow referencing more than nine capturing groups.\n",
    "\n",
    "__*__  Matches the preceding element zero or more times. For example, abc matches \"ac\", \"abc\", \"abbbc\", etc. [xyz] matches \"\", \"x\", \"y\", \"z\", \"zx\", \"zyx\", \"xyzzy\", and so on. (ab)* matches \"\", \"ab\", \"abab\", \"ababab\", and so on.\n",
    "\n",
    "**{m,n}** Matches the preceding element at least m and not more than n times. For example, a{3,5} matches only \"aaa\", \"aaaa\", and \"aaaaa\". This is not found in a few older instances of regexes. BRE mode requires {m,n}\n",
    "\n",
    "**?** Matches the preceding element zero or one time. For example, ab?c matches only \"ac\" or \"abc\".\n",
    "\n",
    "**+** Matches the preceding element one or more times. For example, ab+c matches \"abc\", \"abbc\", \"abbbc\", and so on, but not \"ac\".\n",
    "\n",
    "**|** The choice (also known as alternation or set union) operator matches either the expression before or the expression after the operator. For example, abc|def matches \"abc\" or \"def\"."
   ]
  },
  {
   "cell_type": "code",
   "execution_count": 116,
   "metadata": {},
   "outputs": [],
   "source": [
    "# Replacing money symbols ($,€,£ etc. ) with 'moneysymbol'\n",
    "data_features_processed = data_features.str.replace(r'£|\\$|\\€', 'moneysymbol')"
   ]
  },
  {
   "cell_type": "code",
   "execution_count": 117,
   "metadata": {},
   "outputs": [],
   "source": [
    "# Replacing numbers (1,2,6,10 etc.) with 'number'\n",
    "data_features_processed = data_features_processed.str.replace(r'\\d+(\\.\\d+)?', 'number')"
   ]
  },
  {
   "cell_type": "code",
   "execution_count": 118,
   "metadata": {},
   "outputs": [],
   "source": [
    "# Removing punctuation\n",
    "data_features_processed = data_features_processed.str.replace(r'[^\\w\\d\\s]', ' ')"
   ]
  },
  {
   "cell_type": "code",
   "execution_count": 119,
   "metadata": {},
   "outputs": [],
   "source": [
    "# Removing whitespace with a single space ' '\n",
    "data_features_processed = data_features_processed.str.replace(r'\\s+', ' ')"
   ]
  },
  {
   "cell_type": "code",
   "execution_count": 120,
   "metadata": {},
   "outputs": [],
   "source": [
    "# Removing leading and trailing whitespace\n",
    "data_features_processed = data_features_processed.str.replace(r'^\\s+|\\s+?$', '')"
   ]
  },
  {
   "cell_type": "markdown",
   "metadata": {},
   "source": [
    "*Since words like 'People', 'people' and 'PEOPLE' are  __3 different words__ they need to be made the same*"
   ]
  },
  {
   "cell_type": "code",
   "execution_count": 121,
   "metadata": {},
   "outputs": [],
   "source": [
    "# Changing words to lower case\n",
    "data_features_processed = data_features_processed.str.lower()"
   ]
  },
  {
   "cell_type": "markdown",
   "metadata": {},
   "source": [
    "#### Lets see the data so far"
   ]
  },
  {
   "cell_type": "code",
   "execution_count": 122,
   "metadata": {},
   "outputs": [
    {
     "name": "stdout",
     "output_type": "stream",
     "text": [
      "0    unions representing workers at turner newall s...\n",
      "1    space com toronto canada a second team of rock...\n",
      "2    ap a company founded by a chemistry researcher...\n",
      "3    ap it s barely dawn when mike fitzpatrick star...\n",
      "4    ap southern california s smog fighting agency ...\n",
      "5    the british department for education and skill...\n",
      "6    sven jaschan self confessed author of the nets...\n",
      "7    foaf loaf and bloom filters have a lot of inte...\n",
      "8    wiltshire police warns about phishing after it...\n",
      "9    in its first two years the uk s dedicated card...\n",
      "Name: content, dtype: object\n"
     ]
    }
   ],
   "source": [
    "# Printing the 1st 10 instances of the data\n",
    "print(data_features_processed[0:10])"
   ]
  },
  {
   "cell_type": "markdown",
   "metadata": {},
   "source": [
    "### Removing stopwords and stems"
   ]
  },
  {
   "cell_type": "code",
   "execution_count": 123,
   "metadata": {},
   "outputs": [],
   "source": [
    "from nltk.corpus import stopwords\n",
    "\n",
    "# Removing the stopwords\n",
    "stop_words = set(stopwords.words('english'))\n",
    "\n",
    "data_features_processed = data_features_processed.apply(lambda x: ' '.join(\n",
    "    term for term in x.split() if term not in stop_words))"
   ]
  },
  {
   "cell_type": "code",
   "execution_count": 124,
   "metadata": {},
   "outputs": [],
   "source": [
    "# Removing word stems \n",
    "ps = nltk.PorterStemmer()\n",
    "\n",
    "data_features_processed = data_features_processed.apply(lambda x: ' '.join(\n",
    "    ps.stem(term) for term in x.split()))"
   ]
  },
  {
   "cell_type": "markdown",
   "metadata": {},
   "source": [
    "#### Lets see the result after removing the stopwords and the stems"
   ]
  },
  {
   "cell_type": "code",
   "execution_count": 125,
   "metadata": {},
   "outputs": [
    {
     "name": "stdout",
     "output_type": "stream",
     "text": [
      "0    union repres worker turner newal say disappoin...\n",
      "1    space com toronto canada second team rocket co...\n",
      "2    ap compani found chemistri research univers lo...\n",
      "3    ap bare dawn mike fitzpatrick start shift blur...\n",
      "4    ap southern california smog fight agenc went e...\n",
      "5    british depart educ skill dfe recent launch mu...\n",
      "6    sven jaschan self confess author netski sasser...\n",
      "7    foaf loaf bloom filter lot interest properti s...\n",
      "8    wiltshir polic warn phish fraud squad chief ta...\n",
      "9    first two year uk dedic card fraud unit recov ...\n",
      "Name: content, dtype: object\n"
     ]
    }
   ],
   "source": [
    "# Printing the 1st 10 instances of the data \n",
    "print(data_features_processed[:10])"
   ]
  },
  {
   "cell_type": "markdown",
   "metadata": {},
   "source": [
    "## 4. Splitting the data to training and testing sets"
   ]
  },
  {
   "cell_type": "code",
   "execution_count": 126,
   "metadata": {},
   "outputs": [],
   "source": [
    "features_train,features_test,labels_train,labels_test = train_test_split(\n",
    " data_features_processed, data_labels_final, train_size = 0.7, stratify = data_labels_final, random_state = 42)"
   ]
  },
  {
   "cell_type": "markdown",
   "metadata": {},
   "source": [
    "#### Lets check the shape of the training and testing sets"
   ]
  },
  {
   "cell_type": "code",
   "execution_count": 127,
   "metadata": {},
   "outputs": [
    {
     "data": {
      "text/plain": [
       "(5320,)"
      ]
     },
     "execution_count": 127,
     "metadata": {},
     "output_type": "execute_result"
    }
   ],
   "source": [
    "features_train.shape"
   ]
  },
  {
   "cell_type": "code",
   "execution_count": 128,
   "metadata": {},
   "outputs": [
    {
     "data": {
      "text/plain": [
       "(2280,)"
      ]
     },
     "execution_count": 128,
     "metadata": {},
     "output_type": "execute_result"
    }
   ],
   "source": [
    "features_test.shape"
   ]
  },
  {
   "cell_type": "code",
   "execution_count": 129,
   "metadata": {},
   "outputs": [
    {
     "data": {
      "text/plain": [
       "(5320,)"
      ]
     },
     "execution_count": 129,
     "metadata": {},
     "output_type": "execute_result"
    }
   ],
   "source": [
    "labels_train.shape"
   ]
  },
  {
   "cell_type": "code",
   "execution_count": 130,
   "metadata": {},
   "outputs": [
    {
     "data": {
      "text/plain": [
       "(2280,)"
      ]
     },
     "execution_count": 130,
     "metadata": {},
     "output_type": "execute_result"
    }
   ],
   "source": [
    "labels_test.shape"
   ]
  },
  {
   "cell_type": "markdown",
   "metadata": {},
   "source": [
    "*Everything looks fine and I can move on to modeling*"
   ]
  },
  {
   "cell_type": "markdown",
   "metadata": {},
   "source": [
    "## 4. Generating features"
   ]
  },
  {
   "cell_type": "markdown",
   "metadata": {},
   "source": [
    "*Feature engineering is the process of using domain knowledge of the data to create features for machine learning algorithms. In this project, the words in each news report will be my features. I need to transform them into numbers or vectors that will represent them.*\n",
    "\n",
    "*In text procesing, words of the text represent discrete,categorical features. How do we encode such data in a way which is ready to be used by the algorithms? The mapping from textual data to real valued vectors is called __feature extraction__.*\n"
   ]
  },
  {
   "cell_type": "markdown",
   "metadata": {},
   "source": [
    "\n",
    ">### For the feature extraction I can be using the BOW (Bag of Words) method with TF-IDF representation of the text, the Word Embedding method and etc. using scikit-learn's library\n",
    "\n",
    "\n",
    ">>What is **TF-IDF**? \n",
    ">>>*TF-IDF is a score that represents the relative importance of a term in the document and the entire corpus. TF stands for Term Frequency, and IDF stands for Inverse Document Frequency:*\n",
    "\n",
    "![alt text](text_data/TF-IDF.png \"Logo Title Text 1\")\n",
    "   \n",
    "   \n",
    ">>>*The TF-IDF value increases proportionally to the number of times a word appears in the document and is offset by the number of documents in the corpus that contain the word, which helps to adjust for the fact that some words appear more frequently in general.*\n",
    "\n",
    ">>> *One of the major disadvantages of using BOW is that it discards word order thereby ignoring the context and in turn meaning of word in the document. For Natural Language Processing maintaining the context of the words is of utmost importance. Using the Word Embedding approach we can solve this problem.*\n",
    "\n",
    ">> What are **Word Embeddings** ?\n",
    ">>>*This is a representation of text where words that have the same meaning have a similar representation. In other words it represents words in a coordinate system where related words,based on a corpus of relationships,are placed closer together.*"
   ]
  },
  {
   "cell_type": "markdown",
   "metadata": {},
   "source": [
    "#### Lets try with the BOW method using TF-IDF text representation "
   ]
  },
  {
   "cell_type": "markdown",
   "metadata": {},
   "source": [
    "*__1. Training set__*"
   ]
  },
  {
   "cell_type": "code",
   "execution_count": 131,
   "metadata": {},
   "outputs": [],
   "source": [
    "from sklearn.feature_extraction.text import TfidfVectorizer \n",
    " \n",
    "# settings that you use for count vectorizer will go here\n",
    "vectorizer = TfidfVectorizer(use_idf=True)\n",
    " \n",
    "# Transforming the testing set\n",
    "data_features_train_final = vectorizer.fit_transform(features_train)"
   ]
  },
  {
   "cell_type": "markdown",
   "metadata": {},
   "source": [
    "#### Creating a pandas dataframe with each word and it's TF-IDF score"
   ]
  },
  {
   "cell_type": "code",
   "execution_count": 132,
   "metadata": {},
   "outputs": [
    {
     "data": {
      "text/html": [
       "<div>\n",
       "<style scoped>\n",
       "    .dataframe tbody tr th:only-of-type {\n",
       "        vertical-align: middle;\n",
       "    }\n",
       "\n",
       "    .dataframe tbody tr th {\n",
       "        vertical-align: top;\n",
       "    }\n",
       "\n",
       "    .dataframe thead th {\n",
       "        text-align: right;\n",
       "    }\n",
       "</style>\n",
       "<table border=\"1\" class=\"dataframe\">\n",
       "  <thead>\n",
       "    <tr style=\"text-align: right;\">\n",
       "      <th></th>\n",
       "      <th>tfidf</th>\n",
       "    </tr>\n",
       "  </thead>\n",
       "  <tbody>\n",
       "    <tr>\n",
       "      <th>hunt</th>\n",
       "      <td>0.788353</td>\n",
       "    </tr>\n",
       "    <tr>\n",
       "      <th>lobbi</th>\n",
       "      <td>0.306263</td>\n",
       "    </tr>\n",
       "    <tr>\n",
       "      <th>pro</th>\n",
       "      <td>0.235991</td>\n",
       "    </tr>\n",
       "    <tr>\n",
       "      <th>illeg</th>\n",
       "      <td>0.220780</td>\n",
       "    </tr>\n",
       "    <tr>\n",
       "      <th>ban</th>\n",
       "      <td>0.217544</td>\n",
       "    </tr>\n",
       "    <tr>\n",
       "      <th>britain</th>\n",
       "      <td>0.196895</td>\n",
       "    </tr>\n",
       "    <tr>\n",
       "      <th>support</th>\n",
       "      <td>0.194095</td>\n",
       "    </tr>\n",
       "    <tr>\n",
       "      <th>continu</th>\n",
       "      <td>0.188145</td>\n",
       "    </tr>\n",
       "    <tr>\n",
       "      <th>say</th>\n",
       "      <td>0.145266</td>\n",
       "    </tr>\n",
       "    <tr>\n",
       "      <th>pisanu</th>\n",
       "      <td>0.000000</td>\n",
       "    </tr>\n",
       "    <tr>\n",
       "      <th>pipelin</th>\n",
       "      <td>0.000000</td>\n",
       "    </tr>\n",
       "    <tr>\n",
       "      <th>pippen</th>\n",
       "      <td>0.000000</td>\n",
       "    </tr>\n",
       "    <tr>\n",
       "      <th>piquepail</th>\n",
       "      <td>0.000000</td>\n",
       "    </tr>\n",
       "    <tr>\n",
       "      <th>piraci</th>\n",
       "      <td>0.000000</td>\n",
       "    </tr>\n",
       "    <tr>\n",
       "      <th>pirat</th>\n",
       "      <td>0.000000</td>\n",
       "    </tr>\n",
       "    <tr>\n",
       "      <th>pire</th>\n",
       "      <td>0.000000</td>\n",
       "    </tr>\n",
       "    <tr>\n",
       "      <th>piston</th>\n",
       "      <td>0.000000</td>\n",
       "    </tr>\n",
       "    <tr>\n",
       "      <th>pistol</th>\n",
       "      <td>0.000000</td>\n",
       "    </tr>\n",
       "    <tr>\n",
       "      <th>pit</th>\n",
       "      <td>0.000000</td>\n",
       "    </tr>\n",
       "    <tr>\n",
       "      <th>pitcairn</th>\n",
       "      <td>0.000000</td>\n",
       "    </tr>\n",
       "    <tr>\n",
       "      <th>pitch</th>\n",
       "      <td>0.000000</td>\n",
       "    </tr>\n",
       "    <tr>\n",
       "      <th>pitcher</th>\n",
       "      <td>0.000000</td>\n",
       "    </tr>\n",
       "    <tr>\n",
       "      <th>pittsburgh</th>\n",
       "      <td>0.000000</td>\n",
       "    </tr>\n",
       "    <tr>\n",
       "      <th>pivot</th>\n",
       "      <td>0.000000</td>\n",
       "    </tr>\n",
       "    <tr>\n",
       "      <th>pixar</th>\n",
       "      <td>0.000000</td>\n",
       "    </tr>\n",
       "    <tr>\n",
       "      <th>pipe</th>\n",
       "      <td>0.000000</td>\n",
       "    </tr>\n",
       "    <tr>\n",
       "      <th>aa</th>\n",
       "      <td>0.000000</td>\n",
       "    </tr>\n",
       "    <tr>\n",
       "      <th>pioneer</th>\n",
       "      <td>0.000000</td>\n",
       "    </tr>\n",
       "    <tr>\n",
       "      <th>pinch</th>\n",
       "      <td>0.000000</td>\n",
       "    </tr>\n",
       "    <tr>\n",
       "      <th>pile</th>\n",
       "      <td>0.000000</td>\n",
       "    </tr>\n",
       "    <tr>\n",
       "      <th>...</th>\n",
       "      <td>...</td>\n",
       "    </tr>\n",
       "    <tr>\n",
       "      <th>fun</th>\n",
       "      <td>0.000000</td>\n",
       "    </tr>\n",
       "    <tr>\n",
       "      <th>funai</th>\n",
       "      <td>0.000000</td>\n",
       "    </tr>\n",
       "    <tr>\n",
       "      <th>function</th>\n",
       "      <td>0.000000</td>\n",
       "    </tr>\n",
       "    <tr>\n",
       "      <th>fund</th>\n",
       "      <td>0.000000</td>\n",
       "    </tr>\n",
       "    <tr>\n",
       "      <th>fundament</th>\n",
       "      <td>0.000000</td>\n",
       "    </tr>\n",
       "    <tr>\n",
       "      <th>funer</th>\n",
       "      <td>0.000000</td>\n",
       "    </tr>\n",
       "    <tr>\n",
       "      <th>ft</th>\n",
       "      <td>0.000000</td>\n",
       "    </tr>\n",
       "    <tr>\n",
       "      <th>frx</th>\n",
       "      <td>0.000000</td>\n",
       "    </tr>\n",
       "    <tr>\n",
       "      <th>friba</th>\n",
       "      <td>0.000000</td>\n",
       "    </tr>\n",
       "    <tr>\n",
       "      <th>frustrat</th>\n",
       "      <td>0.000000</td>\n",
       "    </tr>\n",
       "    <tr>\n",
       "      <th>friction</th>\n",
       "      <td>0.000000</td>\n",
       "    </tr>\n",
       "    <tr>\n",
       "      <th>friday</th>\n",
       "      <td>0.000000</td>\n",
       "    </tr>\n",
       "    <tr>\n",
       "      <th>friedgen</th>\n",
       "      <td>0.000000</td>\n",
       "    </tr>\n",
       "    <tr>\n",
       "      <th>friend</th>\n",
       "      <td>0.000000</td>\n",
       "    </tr>\n",
       "    <tr>\n",
       "      <th>friendli</th>\n",
       "      <td>0.000000</td>\n",
       "    </tr>\n",
       "    <tr>\n",
       "      <th>friendlier</th>\n",
       "      <td>0.000000</td>\n",
       "    </tr>\n",
       "    <tr>\n",
       "      <th>friendship</th>\n",
       "      <td>0.000000</td>\n",
       "    </tr>\n",
       "    <tr>\n",
       "      <th>frighten</th>\n",
       "      <td>0.000000</td>\n",
       "    </tr>\n",
       "    <tr>\n",
       "      <th>frill</th>\n",
       "      <td>0.000000</td>\n",
       "    </tr>\n",
       "    <tr>\n",
       "      <th>fro</th>\n",
       "      <td>0.000000</td>\n",
       "    </tr>\n",
       "    <tr>\n",
       "      <th>frog</th>\n",
       "      <td>0.000000</td>\n",
       "    </tr>\n",
       "    <tr>\n",
       "      <th>frogger</th>\n",
       "      <td>0.000000</td>\n",
       "    </tr>\n",
       "    <tr>\n",
       "      <th>front</th>\n",
       "      <td>0.000000</td>\n",
       "    </tr>\n",
       "    <tr>\n",
       "      <th>frontal</th>\n",
       "      <td>0.000000</td>\n",
       "    </tr>\n",
       "    <tr>\n",
       "      <th>frontier</th>\n",
       "      <td>0.000000</td>\n",
       "    </tr>\n",
       "    <tr>\n",
       "      <th>froogl</th>\n",
       "      <td>0.000000</td>\n",
       "    </tr>\n",
       "    <tr>\n",
       "      <th>froze</th>\n",
       "      <td>0.000000</td>\n",
       "    </tr>\n",
       "    <tr>\n",
       "      <th>frozen</th>\n",
       "      <td>0.000000</td>\n",
       "    </tr>\n",
       "    <tr>\n",
       "      <th>fruit</th>\n",
       "      <td>0.000000</td>\n",
       "    </tr>\n",
       "    <tr>\n",
       "      <th>zwelinzima</th>\n",
       "      <td>0.000000</td>\n",
       "    </tr>\n",
       "  </tbody>\n",
       "</table>\n",
       "<p>11814 rows × 1 columns</p>\n",
       "</div>"
      ],
      "text/plain": [
       "               tfidf\n",
       "hunt        0.788353\n",
       "lobbi       0.306263\n",
       "pro         0.235991\n",
       "illeg       0.220780\n",
       "ban         0.217544\n",
       "britain     0.196895\n",
       "support     0.194095\n",
       "continu     0.188145\n",
       "say         0.145266\n",
       "pisanu      0.000000\n",
       "pipelin     0.000000\n",
       "pippen      0.000000\n",
       "piquepail   0.000000\n",
       "piraci      0.000000\n",
       "pirat       0.000000\n",
       "pire        0.000000\n",
       "piston      0.000000\n",
       "pistol      0.000000\n",
       "pit         0.000000\n",
       "pitcairn    0.000000\n",
       "pitch       0.000000\n",
       "pitcher     0.000000\n",
       "pittsburgh  0.000000\n",
       "pivot       0.000000\n",
       "pixar       0.000000\n",
       "pipe        0.000000\n",
       "aa          0.000000\n",
       "pioneer     0.000000\n",
       "pinch       0.000000\n",
       "pile        0.000000\n",
       "...              ...\n",
       "fun         0.000000\n",
       "funai       0.000000\n",
       "function    0.000000\n",
       "fund        0.000000\n",
       "fundament   0.000000\n",
       "funer       0.000000\n",
       "ft          0.000000\n",
       "frx         0.000000\n",
       "friba       0.000000\n",
       "frustrat    0.000000\n",
       "friction    0.000000\n",
       "friday      0.000000\n",
       "friedgen    0.000000\n",
       "friend      0.000000\n",
       "friendli    0.000000\n",
       "friendlier  0.000000\n",
       "friendship  0.000000\n",
       "frighten    0.000000\n",
       "frill       0.000000\n",
       "fro         0.000000\n",
       "frog        0.000000\n",
       "frogger     0.000000\n",
       "front       0.000000\n",
       "frontal     0.000000\n",
       "frontier    0.000000\n",
       "froogl      0.000000\n",
       "froze       0.000000\n",
       "frozen      0.000000\n",
       "fruit       0.000000\n",
       "zwelinzima  0.000000\n",
       "\n",
       "[11814 rows x 1 columns]"
      ]
     },
     "execution_count": 132,
     "metadata": {},
     "output_type": "execute_result"
    }
   ],
   "source": [
    "# getting the first vector out (for the first document)\n",
    "first_vector=data_features_train_final[0]\n",
    " \n",
    "# placing tf-idf values in a pandas data frame\n",
    "df = pd.DataFrame(first_vector.T.todense(), index=vectorizer.get_feature_names(), columns=[\"tfidf\"])\n",
    "df.sort_values(by=[\"tfidf\"],ascending=False)"
   ]
  },
  {
   "cell_type": "markdown",
   "metadata": {},
   "source": [
    "*__2. Testing set__*"
   ]
  },
  {
   "cell_type": "code",
   "execution_count": 133,
   "metadata": {},
   "outputs": [],
   "source": [
    "data_features_test_final = vectorizer.transform(features_test)"
   ]
  },
  {
   "cell_type": "code",
   "execution_count": 134,
   "metadata": {},
   "outputs": [
    {
     "data": {
      "text/html": [
       "<div>\n",
       "<style scoped>\n",
       "    .dataframe tbody tr th:only-of-type {\n",
       "        vertical-align: middle;\n",
       "    }\n",
       "\n",
       "    .dataframe tbody tr th {\n",
       "        vertical-align: top;\n",
       "    }\n",
       "\n",
       "    .dataframe thead th {\n",
       "        text-align: right;\n",
       "    }\n",
       "</style>\n",
       "<table border=\"1\" class=\"dataframe\">\n",
       "  <thead>\n",
       "    <tr style=\"text-align: right;\">\n",
       "      <th></th>\n",
       "      <th>tfidf</th>\n",
       "    </tr>\n",
       "  </thead>\n",
       "  <tbody>\n",
       "    <tr>\n",
       "      <th>countri</th>\n",
       "      <td>0.328583</td>\n",
       "    </tr>\n",
       "    <tr>\n",
       "      <th>recogn</th>\n",
       "      <td>0.292013</td>\n",
       "    </tr>\n",
       "    <tr>\n",
       "      <th>dump</th>\n",
       "      <td>0.277561</td>\n",
       "    </tr>\n",
       "    <tr>\n",
       "      <th>penalti</th>\n",
       "      <td>0.267308</td>\n",
       "    </tr>\n",
       "    <tr>\n",
       "      <th>statu</th>\n",
       "      <td>0.263110</td>\n",
       "    </tr>\n",
       "    <tr>\n",
       "      <th>argentina</th>\n",
       "      <td>0.259355</td>\n",
       "    </tr>\n",
       "    <tr>\n",
       "      <th>grant</th>\n",
       "      <td>0.252857</td>\n",
       "    </tr>\n",
       "    <tr>\n",
       "      <th>impos</th>\n",
       "      <td>0.236478</td>\n",
       "    </tr>\n",
       "    <tr>\n",
       "      <th>worldwid</th>\n",
       "      <td>0.232911</td>\n",
       "    </tr>\n",
       "    <tr>\n",
       "      <th>asian</th>\n",
       "      <td>0.229669</td>\n",
       "    </tr>\n",
       "    <tr>\n",
       "      <th>export</th>\n",
       "      <td>0.229669</td>\n",
       "    </tr>\n",
       "    <tr>\n",
       "      <th>chines</th>\n",
       "      <td>0.209066</td>\n",
       "    </tr>\n",
       "    <tr>\n",
       "      <th>seek</th>\n",
       "      <td>0.204198</td>\n",
       "    </tr>\n",
       "    <tr>\n",
       "      <th>keep</th>\n",
       "      <td>0.204198</td>\n",
       "    </tr>\n",
       "    <tr>\n",
       "      <th>economi</th>\n",
       "      <td>0.199916</td>\n",
       "    </tr>\n",
       "    <tr>\n",
       "      <th>china</th>\n",
       "      <td>0.178743</td>\n",
       "    </tr>\n",
       "    <tr>\n",
       "      <th>market</th>\n",
       "      <td>0.157752</td>\n",
       "    </tr>\n",
       "    <tr>\n",
       "      <th>thursday</th>\n",
       "      <td>0.135170</td>\n",
       "    </tr>\n",
       "    <tr>\n",
       "      <th>pinkuzi</th>\n",
       "      <td>0.000000</td>\n",
       "    </tr>\n",
       "    <tr>\n",
       "      <th>pilot</th>\n",
       "      <td>0.000000</td>\n",
       "    </tr>\n",
       "    <tr>\n",
       "      <th>pisanu</th>\n",
       "      <td>0.000000</td>\n",
       "    </tr>\n",
       "    <tr>\n",
       "      <th>pistol</th>\n",
       "      <td>0.000000</td>\n",
       "    </tr>\n",
       "    <tr>\n",
       "      <th>piston</th>\n",
       "      <td>0.000000</td>\n",
       "    </tr>\n",
       "    <tr>\n",
       "      <th>pit</th>\n",
       "      <td>0.000000</td>\n",
       "    </tr>\n",
       "    <tr>\n",
       "      <th>pitcairn</th>\n",
       "      <td>0.000000</td>\n",
       "    </tr>\n",
       "    <tr>\n",
       "      <th>pillow</th>\n",
       "      <td>0.000000</td>\n",
       "    </tr>\n",
       "    <tr>\n",
       "      <th>pitch</th>\n",
       "      <td>0.000000</td>\n",
       "    </tr>\n",
       "    <tr>\n",
       "      <th>pink</th>\n",
       "      <td>0.000000</td>\n",
       "    </tr>\n",
       "    <tr>\n",
       "      <th>pilling</th>\n",
       "      <td>0.000000</td>\n",
       "    </tr>\n",
       "    <tr>\n",
       "      <th>pinegar</th>\n",
       "      <td>0.000000</td>\n",
       "    </tr>\n",
       "    <tr>\n",
       "      <th>...</th>\n",
       "      <td>...</td>\n",
       "    </tr>\n",
       "    <tr>\n",
       "      <th>function</th>\n",
       "      <td>0.000000</td>\n",
       "    </tr>\n",
       "    <tr>\n",
       "      <th>fund</th>\n",
       "      <td>0.000000</td>\n",
       "    </tr>\n",
       "    <tr>\n",
       "      <th>fundament</th>\n",
       "      <td>0.000000</td>\n",
       "    </tr>\n",
       "    <tr>\n",
       "      <th>funer</th>\n",
       "      <td>0.000000</td>\n",
       "    </tr>\n",
       "    <tr>\n",
       "      <th>fungu</th>\n",
       "      <td>0.000000</td>\n",
       "    </tr>\n",
       "    <tr>\n",
       "      <th>funk</th>\n",
       "      <td>0.000000</td>\n",
       "    </tr>\n",
       "    <tr>\n",
       "      <th>ftse</th>\n",
       "      <td>0.000000</td>\n",
       "    </tr>\n",
       "    <tr>\n",
       "      <th>ft</th>\n",
       "      <td>0.000000</td>\n",
       "    </tr>\n",
       "    <tr>\n",
       "      <th>friday</th>\n",
       "      <td>0.000000</td>\n",
       "    </tr>\n",
       "    <tr>\n",
       "      <th>fse</th>\n",
       "      <td>0.000000</td>\n",
       "    </tr>\n",
       "    <tr>\n",
       "      <th>friedgen</th>\n",
       "      <td>0.000000</td>\n",
       "    </tr>\n",
       "    <tr>\n",
       "      <th>friend</th>\n",
       "      <td>0.000000</td>\n",
       "    </tr>\n",
       "    <tr>\n",
       "      <th>friendli</th>\n",
       "      <td>0.000000</td>\n",
       "    </tr>\n",
       "    <tr>\n",
       "      <th>friendlier</th>\n",
       "      <td>0.000000</td>\n",
       "    </tr>\n",
       "    <tr>\n",
       "      <th>friendship</th>\n",
       "      <td>0.000000</td>\n",
       "    </tr>\n",
       "    <tr>\n",
       "      <th>frighten</th>\n",
       "      <td>0.000000</td>\n",
       "    </tr>\n",
       "    <tr>\n",
       "      <th>frill</th>\n",
       "      <td>0.000000</td>\n",
       "    </tr>\n",
       "    <tr>\n",
       "      <th>fro</th>\n",
       "      <td>0.000000</td>\n",
       "    </tr>\n",
       "    <tr>\n",
       "      <th>frog</th>\n",
       "      <td>0.000000</td>\n",
       "    </tr>\n",
       "    <tr>\n",
       "      <th>frogger</th>\n",
       "      <td>0.000000</td>\n",
       "    </tr>\n",
       "    <tr>\n",
       "      <th>front</th>\n",
       "      <td>0.000000</td>\n",
       "    </tr>\n",
       "    <tr>\n",
       "      <th>frontal</th>\n",
       "      <td>0.000000</td>\n",
       "    </tr>\n",
       "    <tr>\n",
       "      <th>frontier</th>\n",
       "      <td>0.000000</td>\n",
       "    </tr>\n",
       "    <tr>\n",
       "      <th>froogl</th>\n",
       "      <td>0.000000</td>\n",
       "    </tr>\n",
       "    <tr>\n",
       "      <th>froze</th>\n",
       "      <td>0.000000</td>\n",
       "    </tr>\n",
       "    <tr>\n",
       "      <th>frozen</th>\n",
       "      <td>0.000000</td>\n",
       "    </tr>\n",
       "    <tr>\n",
       "      <th>fruit</th>\n",
       "      <td>0.000000</td>\n",
       "    </tr>\n",
       "    <tr>\n",
       "      <th>frustrat</th>\n",
       "      <td>0.000000</td>\n",
       "    </tr>\n",
       "    <tr>\n",
       "      <th>frx</th>\n",
       "      <td>0.000000</td>\n",
       "    </tr>\n",
       "    <tr>\n",
       "      <th>zwelinzima</th>\n",
       "      <td>0.000000</td>\n",
       "    </tr>\n",
       "  </tbody>\n",
       "</table>\n",
       "<p>11814 rows × 1 columns</p>\n",
       "</div>"
      ],
      "text/plain": [
       "               tfidf\n",
       "countri     0.328583\n",
       "recogn      0.292013\n",
       "dump        0.277561\n",
       "penalti     0.267308\n",
       "statu       0.263110\n",
       "argentina   0.259355\n",
       "grant       0.252857\n",
       "impos       0.236478\n",
       "worldwid    0.232911\n",
       "asian       0.229669\n",
       "export      0.229669\n",
       "chines      0.209066\n",
       "seek        0.204198\n",
       "keep        0.204198\n",
       "economi     0.199916\n",
       "china       0.178743\n",
       "market      0.157752\n",
       "thursday    0.135170\n",
       "pinkuzi     0.000000\n",
       "pilot       0.000000\n",
       "pisanu      0.000000\n",
       "pistol      0.000000\n",
       "piston      0.000000\n",
       "pit         0.000000\n",
       "pitcairn    0.000000\n",
       "pillow      0.000000\n",
       "pitch       0.000000\n",
       "pink        0.000000\n",
       "pilling     0.000000\n",
       "pinegar     0.000000\n",
       "...              ...\n",
       "function    0.000000\n",
       "fund        0.000000\n",
       "fundament   0.000000\n",
       "funer       0.000000\n",
       "fungu       0.000000\n",
       "funk        0.000000\n",
       "ftse        0.000000\n",
       "ft          0.000000\n",
       "friday      0.000000\n",
       "fse         0.000000\n",
       "friedgen    0.000000\n",
       "friend      0.000000\n",
       "friendli    0.000000\n",
       "friendlier  0.000000\n",
       "friendship  0.000000\n",
       "frighten    0.000000\n",
       "frill       0.000000\n",
       "fro         0.000000\n",
       "frog        0.000000\n",
       "frogger     0.000000\n",
       "front       0.000000\n",
       "frontal     0.000000\n",
       "frontier    0.000000\n",
       "froogl      0.000000\n",
       "froze       0.000000\n",
       "frozen      0.000000\n",
       "fruit       0.000000\n",
       "frustrat    0.000000\n",
       "frx         0.000000\n",
       "zwelinzima  0.000000\n",
       "\n",
       "[11814 rows x 1 columns]"
      ]
     },
     "execution_count": 134,
     "metadata": {},
     "output_type": "execute_result"
    }
   ],
   "source": [
    "test_first_vector=data_features_test_final[0]\n",
    " \n",
    "df = pd.DataFrame(test_first_vector.T.todense(), index=vectorizer.get_feature_names(), columns=[\"tfidf\"])\n",
    "df.sort_values(by=[\"tfidf\"],ascending=False)"
   ]
  },
  {
   "cell_type": "markdown",
   "metadata": {},
   "source": [
    "*__3. Shapes__*"
   ]
  },
  {
   "cell_type": "code",
   "execution_count": 135,
   "metadata": {},
   "outputs": [
    {
     "data": {
      "text/plain": [
       "(5320, 11814)"
      ]
     },
     "execution_count": 135,
     "metadata": {},
     "output_type": "execute_result"
    }
   ],
   "source": [
    "data_features_train_final.shape"
   ]
  },
  {
   "cell_type": "code",
   "execution_count": 136,
   "metadata": {},
   "outputs": [
    {
     "data": {
      "text/plain": [
       "(2280, 11814)"
      ]
     },
     "execution_count": 136,
     "metadata": {},
     "output_type": "execute_result"
    }
   ],
   "source": [
    "data_features_test_final.shape"
   ]
  },
  {
   "cell_type": "markdown",
   "metadata": {},
   "source": [
    "*Everything looks good so I can move on to modeling*"
   ]
  },
  {
   "cell_type": "markdown",
   "metadata": {},
   "source": [
    "## 5. Modeling"
   ]
  },
  {
   "cell_type": "code",
   "execution_count": 137,
   "metadata": {},
   "outputs": [],
   "source": [
    "from sklearn.svm import SVC\n",
    "from sklearn.tree import DecisionTreeClassifier\n",
    "from sklearn.neighbors import KNeighborsClassifier\n",
    "from sklearn.naive_bayes import MultinomialNB\n",
    "\n",
    "from sklearn.cluster import KMeans\n",
    "\n",
    "from sklearn.pipeline import Pipeline"
   ]
  },
  {
   "cell_type": "markdown",
   "metadata": {},
   "source": [
    "*I coud be using the __SelectKBest__ algorithm to select only the best features after the TF-IDF, but my dataset is relatively small - 5320 features for training the model, so I don't need to use it here*\n",
    "\n",
    "*Lets try a few classyfiers. I will be using __K Nearest Neighbors, Naive Bayes__ , __SVC__ and __Decision Tree__*"
   ]
  },
  {
   "cell_type": "code",
   "execution_count": 138,
   "metadata": {},
   "outputs": [
    {
     "data": {
      "text/plain": [
       "(2280,)"
      ]
     },
     "execution_count": 138,
     "metadata": {},
     "output_type": "execute_result"
    }
   ],
   "source": [
    "labels_test.shape"
   ]
  },
  {
   "cell_type": "code",
   "execution_count": 139,
   "metadata": {},
   "outputs": [
    {
     "data": {
      "text/plain": [
       "['labels_test.pkl']"
      ]
     },
     "execution_count": 139,
     "metadata": {},
     "output_type": "execute_result"
    }
   ],
   "source": [
    "joblib.dump(labels_test, \"labels_test.pkl\")"
   ]
  },
  {
   "cell_type": "code",
   "execution_count": 140,
   "metadata": {},
   "outputs": [
    {
     "data": {
      "text/plain": [
       "(2280, 11814)"
      ]
     },
     "execution_count": 140,
     "metadata": {},
     "output_type": "execute_result"
    }
   ],
   "source": [
    "data_features_test_final.shape"
   ]
  },
  {
   "cell_type": "code",
   "execution_count": 141,
   "metadata": {},
   "outputs": [
    {
     "data": {
      "text/plain": [
       "['features_test.pkl']"
      ]
     },
     "execution_count": 141,
     "metadata": {},
     "output_type": "execute_result"
    }
   ],
   "source": [
    "joblib.dump(data_features_test_final, \"features_test.pkl\")"
   ]
  },
  {
   "cell_type": "code",
   "execution_count": 142,
   "metadata": {},
   "outputs": [
    {
     "data": {
      "text/plain": [
       "(5320,)"
      ]
     },
     "execution_count": 142,
     "metadata": {},
     "output_type": "execute_result"
    }
   ],
   "source": [
    "labels_train.shape"
   ]
  },
  {
   "cell_type": "code",
   "execution_count": 143,
   "metadata": {},
   "outputs": [
    {
     "data": {
      "text/plain": [
       "['labels_train.pkl']"
      ]
     },
     "execution_count": 143,
     "metadata": {},
     "output_type": "execute_result"
    }
   ],
   "source": [
    "joblib.dump(labels_train, \"labels_train.pkl\")"
   ]
  },
  {
   "cell_type": "code",
   "execution_count": 144,
   "metadata": {},
   "outputs": [
    {
     "data": {
      "text/plain": [
       "(5320, 11814)"
      ]
     },
     "execution_count": 144,
     "metadata": {},
     "output_type": "execute_result"
    }
   ],
   "source": [
    "data_features_train_final.shape"
   ]
  },
  {
   "cell_type": "code",
   "execution_count": 145,
   "metadata": {},
   "outputs": [
    {
     "data": {
      "text/plain": [
       "['features_train.pkl']"
      ]
     },
     "execution_count": 145,
     "metadata": {},
     "output_type": "execute_result"
    }
   ],
   "source": [
    "joblib.dump(data_features_train_final, \"features_train.pkl\")"
   ]
  },
  {
   "cell_type": "code",
   "execution_count": 146,
   "metadata": {},
   "outputs": [
    {
     "name": "stdout",
     "output_type": "stream",
     "text": [
      "K Nearest Neighbors Training Accuracy: 89.09774436090225\n",
      "K Nearest Neighbors Testing Accuracy: 83.99122807017544\n",
      "Naive Bayes Training Accuracy: 92.59398496240601\n",
      "Naive Bayes Testing Accuracy: 87.10526315789474\n",
      "SVC Training Accuracy: 80.65789473684211\n",
      "SVC Testing Accuracy: 77.98245614035088\n",
      "Decision Tree Training Accuracy: 100.0\n",
      "Decision Tree Testing Accuracy: 67.23684210526316\n"
     ]
    }
   ],
   "source": [
    "names = [\"K Nearest Neighbors\",\"Naive Bayes\",\n",
    "          \"SVC\",\"Decision Tree\"]\n",
    "\n",
    "classifiers = [\n",
    "    KNeighborsClassifier(),\n",
    "    MultinomialNB(),\n",
    "    SVC(gamma='auto'),\n",
    "    DecisionTreeClassifier()\n",
    "]\n",
    "\n",
    "models = zip(names, classifiers)\n",
    "\n",
    "for name, model in models:\n",
    "    model.fit(data_features_train_final,labels_train)\n",
    "    accuracy = model.score(data_features_train_final,labels_train)*100\n",
    "    print(\"{} Training Accuracy: {}\".format(name, accuracy))\n",
    "    accuracy_test = model.score(data_features_test_final, labels_test)*100\n",
    "    print(\"{} Testing Accuracy: {}\".format(name, accuracy_test))"
   ]
  },
  {
   "cell_type": "markdown",
   "metadata": {},
   "source": [
    "*The models are doing better on the data they know (the __training data__) compared to the data thats new for them (the __testing data__). We can say that the models have __high variance__.*"
   ]
  },
  {
   "cell_type": "markdown",
   "metadata": {},
   "source": [
    "*The __SVC__'s score is pretty low compared to the K Nearest Neighbors and Naive Bayes models. The Decision Tree seems to have __high variance__ but also __high bias for the testing set__.  The scores for __K Nearest Neighbors__ and __Naive Byes__ are not that bad, I can fine-tune them to try improve their performance. I can try to boost the Decision Tree by using __Random Forest model__ that is relying on multyple trees. Since the results are not bad and  __TF-IDF__ is much faster way to represent the text data than __Word2Vec__ (it takes much less time to do TF-IDF transformation than train Word2Vec model), I will stick with that method.*"
   ]
  },
  {
   "cell_type": "markdown",
   "metadata": {},
   "source": [
    "## 6. Fine-Tuning the models"
   ]
  },
  {
   "cell_type": "markdown",
   "metadata": {},
   "source": [
    "*I am dealing with a multyclass classification wich is a problem for scikit-learn's __GridSearchCV__. So I will have to tune the models on hand.*"
   ]
  },
  {
   "cell_type": "markdown",
   "metadata": {},
   "source": [
    "### K Nearest Neighbours"
   ]
  },
  {
   "cell_type": "markdown",
   "metadata": {},
   "source": [
    "*I will tune the __n_neighbors__ parameter (the number of neighbours to use)*\n",
    "\n",
    "*I can use __AUC (Area Under Curve)__ as the evaluation metric, but It's not working for multyclass problems like this one,\n",
    "so I will be using __Accuracy__ for evaluating the K Nearest Neighbors model's performance.* "
   ]
  },
  {
   "cell_type": "markdown",
   "metadata": {},
   "source": [
    "### Lets tune the \"n_neighbors\" parameter"
   ]
  },
  {
   "cell_type": "markdown",
   "metadata": {},
   "source": [
    "*I will create a __validation set__ from the training set. I will train the algorithm with the new training set and test with the validation set. The size for validating that I chose is __15%__. The dataset is small - only 7600 documents in total and 5320 for training. After using __TF-IDF__ transformation to the text I have __11814__ features which is still small amount but they wil do the job.*"
   ]
  },
  {
   "cell_type": "code",
   "execution_count": 147,
   "metadata": {},
   "outputs": [
    {
     "data": {
      "image/png": "[encoded data removed]",
      "text/plain": [
       "<Figure size 432x288 with 1 Axes>"
      ]
     },
     "metadata": {
      "needs_background": "light"
     },
     "output_type": "display_data"
    }
   ],
   "source": [
    "#Creating a validation set from the whole training set\n",
    "features_training_set,features_validation_set, labels_training_set, labels_validation_set = train_test_split(\n",
    " data_features_train_final, labels_train, train_size = 0.85 , stratify = labels_train,random_state = 42)\n",
    "\n",
    "neighbors = list(range(1,30))\n",
    "train_results = []\n",
    "test_results = []\n",
    "\n",
    "for n in neighbors:\n",
    "    model = KNeighborsClassifier(n_neighbors=n)\n",
    "    model.fit(features_training_set, labels_training_set)\n",
    "    \n",
    "    train_accuracy = model.score(features_training_set,labels_training_set)*100   \n",
    "    test_accuracy = model.score(features_validation_set,labels_validation_set)*100\n",
    "    \n",
    "    train_results.append(train_accuracy)\n",
    "   \n",
    "    test_results.append(test_accuracy)  \n",
    "             \n",
    "line1 = plt.plot(neighbors, train_results, 'b', label= \"Train ACC\")\n",
    "line2 = plt.plot(neighbors, test_results, 'r', label= \"Test ACC\")\n",
    "\n",
    "plt.ylabel('ACC score')\n",
    "plt.xlabel('n_neighbors')\n",
    "plt.legend()\n",
    "plt.show()"
   ]
  },
  {
   "cell_type": "markdown",
   "metadata": {},
   "source": [
    "*The graph shows that the accuracy for the data that the model knows (training set) is higher the less neighbors the models has. The accuracy for the data that's new for the model (testing set) is higher the more neighbors the models has. Also the algorithm performs better on the training data compared to the testing data.*"
   ]
  },
  {
   "cell_type": "markdown",
   "metadata": {},
   "source": [
    "*Creating a pandas DataFrame with each __n_neighbors value__ (1:29) as a column and  __the scores__ \n",
    "as rows (index: __0 - training, 1 - testing__).*"
   ]
  },
  {
   "cell_type": "code",
   "execution_count": 148,
   "metadata": {},
   "outputs": [],
   "source": [
    "table = pd.DataFrame(data = [train_results,test_results] , columns = neighbors)"
   ]
  },
  {
   "cell_type": "code",
   "execution_count": 149,
   "metadata": {},
   "outputs": [
    {
     "name": "stdout",
     "output_type": "stream",
     "text": [
      "           1          2          3          4          5          6   \\\n",
      "0  100.000000  89.783282  90.623618  89.208315  89.186201  88.611234   \n",
      "1   79.448622  77.318296  80.325815  80.827068  82.456140  81.704261   \n",
      "\n",
      "          7          8          9          10  ...         20         21  \\\n",
      "0  88.589120  88.168952  87.815126  87.616099  ...  87.129589  87.372844   \n",
      "1  82.205514  82.706767  82.832080  82.581454  ...  83.333333  83.458647   \n",
      "\n",
      "          22         23         24         25         26         27  \\\n",
      "0  87.284387  87.262273  86.886333  86.930562  86.753649  86.775763   \n",
      "1  83.208020  81.954887  82.080201  82.581454  81.954887  82.330827   \n",
      "\n",
      "          28         29  \n",
      "0  86.643078  86.687307  \n",
      "1  82.706767  82.330827  \n",
      "\n",
      "[2 rows x 29 columns]\n"
     ]
    }
   ],
   "source": [
    "print(table)"
   ]
  },
  {
   "cell_type": "markdown",
   "metadata": {},
   "source": [
    "#### Lets see all values"
   ]
  },
  {
   "cell_type": "code",
   "execution_count": 150,
   "metadata": {},
   "outputs": [
    {
     "data": {
      "text/plain": [
       "array([[100.        ,  89.78328173,  90.62361787,  89.2083149 ,\n",
       "         89.1862008 ,  88.61123397,  88.58911986,  88.16895179,\n",
       "         87.81512605,  87.61609907,  87.74878372,  87.74878372,\n",
       "         87.59398496,  87.52764264,  87.57187085,  87.35072977,\n",
       "         87.41707209,  87.04113224,  86.99690402,  87.12958868,\n",
       "         87.37284387,  87.28438744,  87.26227333,  86.88633348,\n",
       "         86.9305617 ,  86.75364883,  86.77576294,  86.64307828,\n",
       "         86.6873065 ],\n",
       "       [ 79.44862155,  77.31829574,  80.32581454,  80.82706767,\n",
       "         82.45614035,  81.70426065,  82.20551378,  82.70676692,\n",
       "         82.8320802 ,  82.58145363,  83.45864662,  83.08270677,\n",
       "         82.33082707,  82.95739348,  83.33333333,  82.58145363,\n",
       "         82.33082707,  82.45614035,  83.08270677,  83.33333333,\n",
       "         83.45864662,  83.20802005,  81.95488722,  82.0802005 ,\n",
       "         82.58145363,  81.95488722,  82.33082707,  82.70676692,\n",
       "         82.33082707]])"
      ]
     },
     "execution_count": 150,
     "metadata": {},
     "output_type": "execute_result"
    }
   ],
   "source": [
    "table.values"
   ]
  },
  {
   "cell_type": "markdown",
   "metadata": {},
   "source": [
    "*So for the __n_neighbors__ parameter I will get __21__, because the test accuracy is highest and the train accuracy is close to the test one (that's the lowest variance in the results).*"
   ]
  },
  {
   "cell_type": "markdown",
   "metadata": {},
   "source": [
    "### Lets see how the model will perform with the parameter value I chose: \"n_neighbors = 21\" "
   ]
  },
  {
   "cell_type": "code",
   "execution_count": 202,
   "metadata": {},
   "outputs": [],
   "source": [
    "finalKN_model = KNeighborsClassifier(n_neighbors = 1)\n",
    "finalKN_model.fit(data_features_train_final, labels_train)  \n",
    "\n",
    "train_accuracy = finalKN_model.score(data_features_train_final,labels_train)*100   \n",
    "test_accuracy = finalKN_model.score(data_features_test_final,labels_test)*100"
   ]
  },
  {
   "cell_type": "code",
   "execution_count": 203,
   "metadata": {},
   "outputs": [
    {
     "name": "stdout",
     "output_type": "stream",
     "text": [
      "100.0\n",
      "79.82456140350878\n"
     ]
    }
   ],
   "source": [
    "print(train_accuracy)\n",
    "print(test_accuracy)"
   ]
  },
  {
   "cell_type": "code",
   "execution_count": 204,
   "metadata": {},
   "outputs": [
    {
     "data": {
      "text/plain": [
       "['KN_model.pkl']"
      ]
     },
     "execution_count": 204,
     "metadata": {},
     "output_type": "execute_result"
    }
   ],
   "source": [
    "joblib.dump(finalKN_model, \"KN_model.pkl\")"
   ]
  },
  {
   "cell_type": "markdown",
   "metadata": {},
   "source": [
    "### Lets try improving the performance of Decision Tree"
   ]
  },
  {
   "cell_type": "markdown",
   "metadata": {},
   "source": [
    "*For the Decision Tree I will tune the __max_depth__ , __max_leaf_nodes__ and the __min_samples_leaf__ parameters.*"
   ]
  },
  {
   "cell_type": "markdown",
   "metadata": {},
   "source": [
    "### Tuning the \"max_depth\" parameter"
   ]
  },
  {
   "cell_type": "code",
   "execution_count": 154,
   "metadata": {},
   "outputs": [
    {
     "data": {
      "image/png": "[encoded data removed]",
      "text/plain": [
       "<Figure size 432x288 with 1 Axes>"
      ]
     },
     "metadata": {
      "needs_background": "light"
     },
     "output_type": "display_data"
    }
   ],
   "source": [
    "depths = [1,5,9,12,15,20,30,50,55]\n",
    "train_results = []\n",
    "test_results = []\n",
    "\n",
    "for d in depths:\n",
    "    model = DecisionTreeClassifier(max_depth = d)\n",
    "    model.fit(features_training_set, labels_training_set)\n",
    "    \n",
    "    train_accuracy = model.score(features_training_set,labels_training_set)*100   \n",
    "    test_accuracy = model.score(features_validation_set,labels_validation_set)*100\n",
    "    \n",
    "    train_results.append(train_accuracy)\n",
    "   \n",
    "    test_results.append(test_accuracy)  \n",
    "             \n",
    "line1 = plt.plot(depths, train_results, 'b', label= \"Train ACC\")\n",
    "line2 = plt.plot(depths, test_results, 'r', label= \"Test ACC\")\n",
    "\n",
    "plt.ylabel('ACC score')\n",
    "plt.xlabel('n_neighbors')\n",
    "plt.legend()\n",
    "plt.show()"
   ]
  },
  {
   "cell_type": "code",
   "execution_count": 155,
   "metadata": {},
   "outputs": [],
   "source": [
    "table = pd.DataFrame(data = [train_results,test_results] , columns = depths)"
   ]
  },
  {
   "cell_type": "code",
   "execution_count": 156,
   "metadata": {},
   "outputs": [
    {
     "name": "stdout",
     "output_type": "stream",
     "text": [
      "          1          5          9          12         15         20  \\\n",
      "0  27.974348  36.665192  46.572313  50.574967  56.324635  62.140646   \n",
      "1  27.192982  33.834586  42.857143  46.992481  52.005013  55.137845   \n",
      "\n",
      "          30         50         55  \n",
      "0  69.858470  82.153914  83.900929  \n",
      "1  58.646617  63.909774  65.162907  \n"
     ]
    }
   ],
   "source": [
    "print(table)"
   ]
  },
  {
   "cell_type": "markdown",
   "metadata": {},
   "source": [
    "*From the graph and the table we can see that the results on the testing set are alot worse than those on the training set.Also the more depth it has,the better results. Reaching around \"max_depth = 50\" the results are getting worse.So I can take __\"48\"__ for the __\"max_depth\"__ parameter*"
   ]
  },
  {
   "cell_type": "markdown",
   "metadata": {},
   "source": [
    "### Tuning the \"max_leaf_nodes\" parameter"
   ]
  },
  {
   "cell_type": "code",
   "execution_count": 157,
   "metadata": {},
   "outputs": [
    {
     "data": {
      "image/png": "[encoded data removed]",
      "text/plain": [
       "<Figure size 432x288 with 1 Axes>"
      ]
     },
     "metadata": {
      "needs_background": "light"
     },
     "output_type": "display_data"
    }
   ],
   "source": [
    "nodes = [15,20,30,35,40,45,50,None]\n",
    "train_results = []\n",
    "test_results = []\n",
    "\n",
    "for n in nodes:\n",
    "    model = DecisionTreeClassifier(max_leaf_nodes = n)\n",
    "    model.fit(features_training_set, labels_training_set)\n",
    "    \n",
    "    train_accuracy = model.score(features_training_set,labels_training_set)*100   \n",
    "    test_accuracy = model.score(features_validation_set,labels_validation_set)*100\n",
    "    \n",
    "    train_results.append(train_accuracy)\n",
    "   \n",
    "    test_results.append(test_accuracy)  \n",
    "             \n",
    "line1 = plt.plot(nodes, train_results, 'b', label= \"Train ACC\")\n",
    "line2 = plt.plot(nodes, test_results, 'r', label= \"Test ACC\")\n",
    "\n",
    "plt.ylabel('ACC score')\n",
    "plt.xlabel('n_neighbors')\n",
    "plt.legend()\n",
    "plt.show()"
   ]
  },
  {
   "cell_type": "code",
   "execution_count": 158,
   "metadata": {},
   "outputs": [],
   "source": [
    "table = pd.DataFrame(data = [train_results,test_results] , columns = nodes)"
   ]
  },
  {
   "cell_type": "code",
   "execution_count": 159,
   "metadata": {},
   "outputs": [
    {
     "name": "stdout",
     "output_type": "stream",
     "text": [
      "          15         20         30         35         40         45  \\\n",
      "0  49.977886  53.715170  58.757187  61.764706  63.931889  66.342326   \n",
      "1  50.877193  54.260652  58.897243  61.403509  63.032581  63.909774   \n",
      "\n",
      "          50         NaN  \n",
      "0  66.806723  100.000000  \n",
      "1  64.285714   69.172932  \n"
     ]
    }
   ],
   "source": [
    "print(table)"
   ]
  },
  {
   "cell_type": "markdown",
   "metadata": {},
   "source": [
    "*This time the results on the two sets are very close to each other. The default value is \"None\" and we can see that in that case we have a __high variance__. Since the results on the testing set are not improving much with the default value,its better to consider the much less variance we got with the value of __\"50\"__.*"
   ]
  },
  {
   "cell_type": "markdown",
   "metadata": {},
   "source": [
    "### Tuning the \"min_samples_leaf\" parameter"
   ]
  },
  {
   "cell_type": "code",
   "execution_count": 160,
   "metadata": {},
   "outputs": [
    {
     "data": {
      "image/png": "[encoded data removed]",
      "text/plain": [
       "<Figure size 432x288 with 1 Axes>"
      ]
     },
     "metadata": {
      "needs_background": "light"
     },
     "output_type": "display_data"
    }
   ],
   "source": [
    "leafs = [1,2,5,10,20]\n",
    "train_results = []\n",
    "test_results = []\n",
    "\n",
    "for l in leafs:\n",
    "    model = DecisionTreeClassifier(min_samples_leaf = l)\n",
    "    model.fit(features_training_set, labels_training_set)\n",
    "    \n",
    "    train_accuracy = model.score(features_training_set,labels_training_set)*100   \n",
    "    test_accuracy = model.score(features_validation_set,labels_validation_set)*100\n",
    "    \n",
    "    train_results.append(train_accuracy)\n",
    "   \n",
    "    test_results.append(test_accuracy)  \n",
    "             \n",
    "line1 = plt.plot(leafs, train_results, 'b', label= \"Train ACC\")\n",
    "line2 = plt.plot(leafs, test_results, 'r', label= \"Test ACC\")\n",
    "\n",
    "plt.ylabel('ACC score')\n",
    "plt.xlabel('n_neighbors')\n",
    "plt.legend()\n",
    "plt.show()"
   ]
  },
  {
   "cell_type": "code",
   "execution_count": 161,
   "metadata": {},
   "outputs": [],
   "source": [
    "table = pd.DataFrame(data = [train_results,test_results] , columns = leafs)"
   ]
  },
  {
   "cell_type": "code",
   "execution_count": 162,
   "metadata": {},
   "outputs": [
    {
     "name": "stdout",
     "output_type": "stream",
     "text": [
      "           1          2          5          10         20\n",
      "0  100.000000  92.658116  82.684653  76.713843  71.318001\n",
      "1   68.796992  67.418546  68.796992  67.418546  66.290727\n"
     ]
    }
   ],
   "source": [
    "print(table)"
   ]
  },
  {
   "cell_type": "markdown",
   "metadata": {},
   "source": [
    "*From the graph we can see that the more samples per leaf the tree has,the worse the accuracy is. Even though the more samples the closer the results on the two set are meaning __less variance__. With that being said I will get __\"20\"__ as \n",
    "the value for the parameter.*"
   ]
  },
  {
   "cell_type": "code",
   "execution_count": 205,
   "metadata": {},
   "outputs": [],
   "source": [
    "finalTree_model = DecisionTreeClassifier(max_depth = 48, min_samples_leaf = 20, max_leaf_nodes = 50)\n",
    "finalTree_model.fit(data_features_train_final, labels_train)  \n",
    "\n",
    "train_accuracy = finalTree_model.score(data_features_train_final,labels_train)*100   \n",
    "test_accuracy = finalTree_model.score(data_features_test_final,labels_test)*100"
   ]
  },
  {
   "cell_type": "code",
   "execution_count": 206,
   "metadata": {},
   "outputs": [
    {
     "name": "stdout",
     "output_type": "stream",
     "text": [
      "67.31203007518796\n",
      "63.1140350877193\n"
     ]
    }
   ],
   "source": [
    "print(train_accuracy)\n",
    "print(test_accuracy)"
   ]
  },
  {
   "cell_type": "markdown",
   "metadata": {},
   "source": [
    "*The fine-tuning didn't improve much when it comes to the results on the testing set,but now the performances on the two sets are alot closer.I made __more stable model with less variance__. Improving __the bias__ may need more data to train the model.Or I can try combining some of these fine-tuned trees using __Random Forest__.*"
   ]
  },
  {
   "cell_type": "markdown",
   "metadata": {},
   "source": [
    "*Lets save the tuned tree model*"
   ]
  },
  {
   "cell_type": "code",
   "execution_count": 207,
   "metadata": {},
   "outputs": [
    {
     "data": {
      "text/plain": [
       "['DecisionTree_model.pkl']"
      ]
     },
     "execution_count": 207,
     "metadata": {},
     "output_type": "execute_result"
    }
   ],
   "source": [
    "joblib.dump(finalTree_model, \"DecisionTree_model.pkl\")"
   ]
  },
  {
   "cell_type": "markdown",
   "metadata": {},
   "source": [
    "## Combining trees with Random Forest"
   ]
  },
  {
   "cell_type": "markdown",
   "metadata": {},
   "source": [
    "*For the Random Forest model I will be tuning the __n_estimators__ parameter. The  __max_depth__, __min_samles_leaf__ and __max_leaf_nodes__ parameters I will take from the tuned DecisionTree model.*"
   ]
  },
  {
   "cell_type": "markdown",
   "metadata": {},
   "source": [
    "### Tuning the \"n_estimators\" parameter"
   ]
  },
  {
   "cell_type": "code",
   "execution_count": 167,
   "metadata": {},
   "outputs": [
    {
     "data": {
      "image/png": "[encoded data removed]",
      "text/plain": [
       "<Figure size 432x288 with 1 Axes>"
      ]
     },
     "metadata": {
      "needs_background": "light"
     },
     "output_type": "display_data"
    }
   ],
   "source": [
    "from sklearn.ensemble import RandomForestClassifier\n",
    "estimators = [100,200,300]\n",
    "train_results = []\n",
    "test_results = []\n",
    "\n",
    "for e in estimators:\n",
    "    model = RandomForestClassifier(n_estimators = e, max_depth = 48, min_samples_leaf = 20, max_leaf_nodes = 50)\n",
    "    model.fit(features_training_set, labels_training_set)\n",
    "    \n",
    "    train_accuracy = model.score(features_training_set,labels_training_set)*100   \n",
    "    test_accuracy = model.score(features_validation_set,labels_validation_set)*100\n",
    "    \n",
    "    train_results.append(train_accuracy)\n",
    "   \n",
    "    test_results.append(test_accuracy)  \n",
    "             \n",
    "line1 = plt.plot(estimators, train_results, 'b', label= \"Train ACC\")\n",
    "line2 = plt.plot(estimators, test_results, 'r', label= \"Test ACC\")\n",
    "\n",
    "plt.ylabel('ACC score')\n",
    "plt.xlabel('n_neighbors')\n",
    "plt.legend()\n",
    "plt.show()"
   ]
  },
  {
   "cell_type": "code",
   "execution_count": 170,
   "metadata": {},
   "outputs": [],
   "source": [
    "table = pd.DataFrame(data = [train_results,test_results] , columns = estimators)"
   ]
  },
  {
   "cell_type": "code",
   "execution_count": 171,
   "metadata": {},
   "outputs": [
    {
     "name": "stdout",
     "output_type": "stream",
     "text": [
      "         100        200        300\n",
      "0  79.831933  80.539584  80.694383\n",
      "1  78.195489  78.947368  78.947368\n"
     ]
    }
   ],
   "source": [
    "print(table)"
   ]
  },
  {
   "cell_type": "markdown",
   "metadata": {},
   "source": [
    "*The scores are __improved__ with 13%. The __variance__ is improved aswell and now it's less than 2%. For the __n_estimators__ parameter I will choose __200__.* "
   ]
  },
  {
   "cell_type": "code",
   "execution_count": 194,
   "metadata": {},
   "outputs": [],
   "source": [
    "finalForest_model = RandomForestClassifier(n_estimators = 200, max_depth = 48, min_samples_leaf = 20, max_leaf_nodes = 50)\n",
    "finalForest_model.fit(data_features_train_final, labels_train)  \n",
    "\n",
    "train_accuracy = finalForest_model.score(data_features_train_final,labels_train)*100   \n",
    "test_accuracy = finalForest_model.score(data_features_test_final,labels_test)*100"
   ]
  },
  {
   "cell_type": "code",
   "execution_count": 195,
   "metadata": {},
   "outputs": [
    {
     "name": "stdout",
     "output_type": "stream",
     "text": [
      "81.05263157894737\n",
      "78.85964912280701\n"
     ]
    }
   ],
   "source": [
    "print(train_accuracy)\n",
    "print(test_accuracy)"
   ]
  },
  {
   "cell_type": "markdown",
   "metadata": {},
   "source": [
    "*The scores on the testing set are slightly better than those on the validation set.*"
   ]
  },
  {
   "cell_type": "code",
   "execution_count": 196,
   "metadata": {},
   "outputs": [
    {
     "data": {
      "text/plain": [
       "['Forest_model.pkl']"
      ]
     },
     "execution_count": 196,
     "metadata": {},
     "output_type": "execute_result"
    }
   ],
   "source": [
    "joblib.dump(finalForest_model, \"Forest_model.pkl\")"
   ]
  },
  {
   "cell_type": "markdown",
   "metadata": {},
   "source": [
    "### Now before comparing the models lets save the Naive Bayes Classifier"
   ]
  },
  {
   "cell_type": "code",
   "execution_count": 197,
   "metadata": {},
   "outputs": [],
   "source": [
    "finalNB_model = MultinomialNB()\n",
    "finalNB_model.fit(data_features_train_final, labels_train)\n",
    "\n",
    "train_accuracy = finalNB_model.score(data_features_train_final,labels_train)*100   \n",
    "test_accuracy = finalNB_model.score(data_features_test_final,labels_test)*100"
   ]
  },
  {
   "cell_type": "code",
   "execution_count": 198,
   "metadata": {},
   "outputs": [
    {
     "name": "stdout",
     "output_type": "stream",
     "text": [
      "92.59398496240601\n",
      "87.10526315789474\n"
     ]
    }
   ],
   "source": [
    "print(train_accuracy)\n",
    "print(test_accuracy)"
   ]
  },
  {
   "cell_type": "code",
   "execution_count": 199,
   "metadata": {},
   "outputs": [
    {
     "data": {
      "text/plain": [
       "['NaiveBayes_model.pkl']"
      ]
     },
     "execution_count": 199,
     "metadata": {},
     "output_type": "execute_result"
    }
   ],
   "source": [
    "joblib.dump(finalNB_model, \"NaiveBayes_model.pkl\")"
   ]
  },
  {
   "cell_type": "markdown",
   "metadata": {},
   "source": [
    "## 7. Comparing the final models"
   ]
  },
  {
   "cell_type": "code",
   "execution_count": 200,
   "metadata": {},
   "outputs": [],
   "source": [
    "def compare():\n",
    "    K_Nearest_best = joblib.load(\"KN_model.pkl\")\n",
    "    DecisionTree_best = joblib.load(\"DecisionTree_model.pkl\")\n",
    "    Forest_best = joblib.load(\"Forest_model.pkl\")\n",
    "    \n",
    "    names = [\"KN_model.pkl\",\"DecisionTree_model.pkl\", \"Forest_model.pkl\",\"NaiveBayes_model.pkl\"]\n",
    "                \n",
    "    classifiers = [\n",
    "        \"K Neighbors Classifier\",\n",
    "        \"Decision Tree Classifier\",\n",
    "        \"Random Forest Classifier\",\n",
    "        \"Naive Bayes Classifier\"\n",
    "    ]\n",
    "    models = zip(names, classifiers)\n",
    "\n",
    "    for name, classifier in models:\n",
    "        model = joblib.load(name)\n",
    "        accuracy = model.score(data_features_train_final,labels_train)*100\n",
    "        print(\"{} Training Accuracy: {}\".format(classifier, accuracy))\n",
    "        accuracy_test = model.score(data_features_test_final, labels_test)*100\n",
    "        print(\"{} Testing Accuracy: {}\".format(classifier, accuracy_test))"
   ]
  },
  {
   "cell_type": "code",
   "execution_count": 201,
   "metadata": {},
   "outputs": [
    {
     "name": "stdout",
     "output_type": "stream",
     "text": [
      "K Neighbors Classifier Training Accuracy: 100.0\n",
      "K Neighbors Classifier Testing Accuracy: 79.82456140350878\n",
      "Decision Tree Classifier Training Accuracy: 67.31203007518796\n",
      "Decision Tree Classifier Testing Accuracy: 63.1140350877193\n",
      "Random Forest Classifier Training Accuracy: 81.05263157894737\n",
      "Random Forest Classifier Testing Accuracy: 78.85964912280701\n",
      "Naive Bayes Classifier Training Accuracy: 92.59398496240601\n",
      "Naive Bayes Classifier Testing Accuracy: 87.10526315789474\n"
     ]
    }
   ],
   "source": [
    "compare()"
   ]
  },
  {
   "cell_type": "markdown",
   "metadata": {},
   "source": [
    "*__K Nearest Neighbors__ and __Random Forest__ have close scores but the Random Forest is __more stable__ (it has less variance).K Nearest Neighbors has the __highest variance__ (It's expressing the training data very well to the point that it's overfiting the data but it fails to perform well on new data). The Naive Bayes Classifier has __the lowest baias__ and highest variance after the K Nearest Neighbors.*"
   ]
  },
  {
   "cell_type": "markdown",
   "metadata": {},
   "source": [
    "## 8. Conclusion"
   ]
  },
  {
   "cell_type": "markdown",
   "metadata": {},
   "source": [
    "*For this project of Natural Language Processing for Text Classification I used my knowedge in Data Science for dealing with the text data(preparing the text for the later use in Machine learning algorithms). I used transformations such as regular expressions,removing stopwords from the text (\"a\",\"too\",\"this\",\"than\",\"that\",\"the\" and many more), removing stems, white spaces and more.I separated the data into training and testing set and then used the Bag of Words method with TF-IDF to create a numerical representation of the text. For the Machine learning part I decided to use 5 classifying model: K Nearest Neighbors,Naive Bayes, Decision Tree, Support Vector Machines and Random Forest. I worked on improving the performance on 3 of these models (K Nearest Neighbors,Decission Trees and Random Forest) by fine-tuning some of their parameters. Naive Bayes Classifier gave the best results even after working on the other algorithms. Tuning it didn't give any change in the performance and that's why I didn't include it in the tuned algorithms. For the Decission Tree model (and the others)I was aiming for the lowest variance possible given the fact that the accuracy scores were close. Beacause it's a 4 class classification problem (multyvariate) I couldn't use scikit-learns GridSearchCV to fine-tune the different models' parameters. That's why I did it manualy for each parameter (I didn't use parameter combinations). I did validation by separating the training set into a smaller training set and a validation set to measure the models' performace with each parameter value and after deciding which values are best to use, I evaluated the models on the testing set. At the end I compared the best models of each type.*"
   ]
  },
  {
   "cell_type": "markdown",
   "metadata": {},
   "source": [
    "## 9. How to improve the project \n",
    "### (Making the project better)"
   ]
  },
  {
   "cell_type": "markdown",
   "metadata": {},
   "source": [
    "#### 1. Using Word Embeddings for the text representation instead of the TF-IDF \n",
    "*Word Embeddings can capture the context of each word in the dataset wich is expected to improve the performance. I didn't use this method to represent the text in my project because it's time consuming. Training a Word2Vec model takes much more time than using TF-IDF transformation*\n",
    "\n",
    "#### 2. Clustering the word features to try finding structure in the data and then adding the clusters to the features\n",
    "*By doing this you can make the models have better results*\n",
    "\n",
    "#### 3. Using Ensemble methods\n",
    "*Another way to fine-tune your system is to try to combine the models that perform best.The group (or \"ensemble\") will often perform better than the best individual model (just like Random Forests perform better than the individual Decision Trees they rely on).*\n",
    "\n",
    "#### 4. Using cross-validation \n",
    "*This is good when you have a small dataset and only one __validation set__ is not going to help so instead you can use cross-validation wich randomly splits the training set into a number of folds. Then it trains and evaluates the model k-times, picking a different fold for evaluation every time and training on the other k-1 folds.*"
   ]
  }
 ],
 "metadata": {
  "kernelspec": {
   "display_name": "Python 3",
   "language": "python",
   "name": "python3"
  },
  "language_info": {
   "codemirror_mode": {
    "name": "ipython",
    "version": 3
   },
   "file_extension": ".py",
   "mimetype": "text/x-python",
   "name": "python",
   "nbconvert_exporter": "python",
   "pygments_lexer": "ipython3",
   "version": "3.7.3"
  }
 },
 "nbformat": 4,
 "nbformat_minor": 2
}
